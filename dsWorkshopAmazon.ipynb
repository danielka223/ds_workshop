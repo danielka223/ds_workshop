{
  "nbformat": 4,
  "nbformat_minor": 0,
  "metadata": {
    "colab": {
      "name": "dsWorkshopAmazon.ipynb",
      "version": "0.3.2",
      "provenance": [],
      "collapsed_sections": [],
      "toc_visible": true,
      "include_colab_link": true
    },
    "kernelspec": {
      "name": "python3",
      "display_name": "Python 3"
    },
    "accelerator": "GPU"
  },
  "cells": [
    {
      "cell_type": "markdown",
      "metadata": {
        "id": "view-in-github",
        "colab_type": "text"
      },
      "source": [
        "<a href=\"https://colab.research.google.com/github/danielka223/ds_workshop/blob/master/dsWorkshopAmazon.ipynb\" target=\"_parent\"><img src=\"https://colab.research.google.com/assets/colab-badge.svg\" alt=\"Open In Colab\"/></a>"
      ]
    },
    {
      "metadata": {
        "id": "LZukTBix5h8d",
        "colab_type": "text"
      },
      "cell_type": "markdown",
      "source": [
        "<h1 align=\"left\">Helpfulness Prediction of Amazon Product Reviews</h1> \n",
        "<h2 align=\"left\">DS Workshop - Fall 18/19 - Tel Aviv University</h2> \n",
        "<h3 align=\"left\">By Daniel K.A, Ido Salomon, Itamar Mutzafi and Sagi Aharoni</h3> \n",
        "\n",
        "\n"
      ]
    },
    {
      "metadata": {
        "colab_type": "text",
        "id": "8u-UkcpMH7lU"
      },
      "cell_type": "markdown",
      "source": [
        "#Notebook Initialization\n",
        "This section should only run once on a new runtime"
      ]
    },
    {
      "metadata": {
        "id": "WDPJB0i_G5kJ",
        "colab_type": "code",
        "colab": {}
      },
      "cell_type": "code",
      "source": [
        "#@title Import Python Libraries {display-mode: \"form\"}\n",
        "\n",
        "import os\n",
        "import pandas as pd\n",
        "import json\n",
        "import datetime\n",
        "\n",
        "from google.colab import drive\n",
        "\n",
        "from contextlib import contextmanager\n",
        "from os.path import getsize, basename\n",
        "from tqdm import tqdm"
      ],
      "execution_count": 0,
      "outputs": []
    },
    {
      "metadata": {
        "id": "DWtoukAHx7F5",
        "colab_type": "code",
        "colab": {
          "base_uri": "https://localhost:8080/",
          "height": 34
        },
        "outputId": "bac41461-1cdf-4119-e370-8c0e8f4098bd"
      },
      "cell_type": "code",
      "source": [
        "#@title Connect to Drive {display-mode: \"form\"}\n",
        "\n",
        "drive.mount('/content/drive/')\n",
        "            "
      ],
      "execution_count": 5,
      "outputs": [
        {
          "output_type": "stream",
          "text": [
            "Drive already mounted at /content/drive/; to attempt to forcibly remount, call drive.mount(\"/content/drive/\", force_remount=True).\n"
          ],
          "name": "stdout"
        }
      ]
    },
    {
      "metadata": {
        "id": "2zBOKxrkscj0",
        "colab_type": "code",
        "colab": {},
        "cellView": "form"
      },
      "cell_type": "code",
      "source": [
        "#@title Infrastracture Definitions\n",
        "\n",
        "@contextmanager\n",
        "def pbopen(filename):\n",
        "    total = getsize(filename)\n",
        "    pb = tqdm(total=total, unit=\"B\", unit_scale=True,\n",
        "              desc=basename(filename), miniters=1,\n",
        "              ncols=80, ascii=True)\n",
        "\n",
        "    def wrapped_line_iterator(fd):\n",
        "        processed_bytes = 0\n",
        "        for line in fd:\n",
        "            processed_bytes += len(line)\n",
        "            # update progress every MB.\n",
        "            if processed_bytes >= 1024 * 1024:\n",
        "                pb.update(processed_bytes)\n",
        "                processed_bytes = 0\n",
        "\n",
        "            yield line\n",
        "\n",
        "        # finally\n",
        "        pb.update(processed_bytes)\n",
        "        pb.close()\n",
        "\n",
        "    with open(filename) as fd:\n",
        "        yield wrapped_line_iterator(fd)"
      ],
      "execution_count": 0,
      "outputs": []
    },
    {
      "metadata": {
        "id": "F5GjkAYq-I0_",
        "colab_type": "text"
      },
      "cell_type": "markdown",
      "source": [
        "# Data Collection\n"
      ]
    },
    {
      "metadata": {
        "colab_type": "code",
        "id": "cmKq5S5CAkTx",
        "outputId": "893dba68-9f8d-4149-9c5b-f990ea81ae04",
        "colab": {
          "base_uri": "https://localhost:8080/",
          "height": 564
        }
      },
      "cell_type": "code",
      "source": [
        "reviewsPath = \"drive/Team Drives/DS Workshop/data/reviews_Office_Products_5.json\"\n",
        "with pbopen(reviewsPath) as file:\n",
        "    reviews = pd.DataFrame(json.loads(line) for line in file)\n",
        "###\n",
        "reviews = reviews.rename(columns = {'asin':'PID'})\n",
        "reviews['reviewTime'] = pd.to_datetime(reviews['reviewTime'], format = '%m %d, %Y')\n",
        "reviews['thumbsUp'] = reviews.apply(lambda row: list(row['helpful'])[0], axis=1)\n",
        "reviews['thumbsDown'] = reviews.apply(lambda row: list(row['helpful'])[1]-list(row['helpful'])[0], axis=1)\n",
        "\n",
        "thumbs = pd.DataFrame(reviews.groupby('reviewerID').mean())\n",
        "thumbs = thumbs[['thumbsUp','thumbsDown']]\n",
        "thumbs.columns = ['thumbsUpAvg','thumbsDownAvg']\n",
        "commentCount=pd.DataFrame(reviews.groupby('reviewerID').size())\n",
        "commentCount.columns=['commentCount']\n",
        "reviews = reviews.join(commentCount, on='reviewerID').join(thumbs, on='reviewerID')\n",
        "\n",
        "reviews = reviews[['reviewerID','thumbsUp','thumbsDown','commentCount','thumbsUpAvg','thumbsDownAvg','overall','reviewText','reviewTime','PID','reviewerName','summary','unixReviewTime']]\n",
        "reviews.head()"
      ],
      "execution_count": 7,
      "outputs": [
        {
          "output_type": "stream",
          "text": [
            "reviews_Office_Products_5.json: 100%|######| 55.9M/55.9M [00:00<00:00, 62.7MB/s]\n"
          ],
          "name": "stderr"
        },
        {
          "output_type": "execute_result",
          "data": {
            "text/html": [
              "<div>\n",
              "<style scoped>\n",
              "    .dataframe tbody tr th:only-of-type {\n",
              "        vertical-align: middle;\n",
              "    }\n",
              "\n",
              "    .dataframe tbody tr th {\n",
              "        vertical-align: top;\n",
              "    }\n",
              "\n",
              "    .dataframe thead th {\n",
              "        text-align: right;\n",
              "    }\n",
              "</style>\n",
              "<table border=\"1\" class=\"dataframe\">\n",
              "  <thead>\n",
              "    <tr style=\"text-align: right;\">\n",
              "      <th></th>\n",
              "      <th>reviewerID</th>\n",
              "      <th>thumbsUp</th>\n",
              "      <th>thumbsDown</th>\n",
              "      <th>commentCount</th>\n",
              "      <th>thumbsUpAvg</th>\n",
              "      <th>thumbsDownAvg</th>\n",
              "      <th>overall</th>\n",
              "      <th>reviewText</th>\n",
              "      <th>reviewTime</th>\n",
              "      <th>PID</th>\n",
              "      <th>reviewerName</th>\n",
              "      <th>summary</th>\n",
              "      <th>unixReviewTime</th>\n",
              "    </tr>\n",
              "  </thead>\n",
              "  <tbody>\n",
              "    <tr>\n",
              "      <th>0</th>\n",
              "      <td>A32T2H8150OJLU</td>\n",
              "      <td>3</td>\n",
              "      <td>1</td>\n",
              "      <td>27</td>\n",
              "      <td>7.37037</td>\n",
              "      <td>0.592593</td>\n",
              "      <td>5.0</td>\n",
              "      <td>I bought my first HP12C in about 1984 or so, a...</td>\n",
              "      <td>2004-09-03</td>\n",
              "      <td>B00000JBLH</td>\n",
              "      <td>ARH</td>\n",
              "      <td>A solid performer, and long time friend</td>\n",
              "      <td>1094169600</td>\n",
              "    </tr>\n",
              "    <tr>\n",
              "      <th>1</th>\n",
              "      <td>A3MAFS04ZABRGO</td>\n",
              "      <td>7</td>\n",
              "      <td>2</td>\n",
              "      <td>5</td>\n",
              "      <td>49.80000</td>\n",
              "      <td>3.400000</td>\n",
              "      <td>5.0</td>\n",
              "      <td>WHY THIS BELATED REVIEW? I feel very obliged t...</td>\n",
              "      <td>2007-12-15</td>\n",
              "      <td>B00000JBLH</td>\n",
              "      <td>Let it Be \"Alan\"</td>\n",
              "      <td>Price of GOLD is up, so don't bury the golden ...</td>\n",
              "      <td>1197676800</td>\n",
              "    </tr>\n",
              "    <tr>\n",
              "      <th>2</th>\n",
              "      <td>A1F1A0QQP2XVH5</td>\n",
              "      <td>3</td>\n",
              "      <td>0</td>\n",
              "      <td>30</td>\n",
              "      <td>2.30000</td>\n",
              "      <td>0.200000</td>\n",
              "      <td>2.0</td>\n",
              "      <td>I have an HP 48GX that has been kicking for mo...</td>\n",
              "      <td>2011-01-01</td>\n",
              "      <td>B00000JBLH</td>\n",
              "      <td>Mark B</td>\n",
              "      <td>Good functionality, but not durable like old HPs</td>\n",
              "      <td>1293840000</td>\n",
              "    </tr>\n",
              "    <tr>\n",
              "      <th>3</th>\n",
              "      <td>A49R5DBXXQDE5</td>\n",
              "      <td>7</td>\n",
              "      <td>1</td>\n",
              "      <td>5</td>\n",
              "      <td>6.00000</td>\n",
              "      <td>0.400000</td>\n",
              "      <td>5.0</td>\n",
              "      <td>I've started doing more finance stuff recently...</td>\n",
              "      <td>2006-04-19</td>\n",
              "      <td>B00000JBLH</td>\n",
              "      <td>R. D Johnson</td>\n",
              "      <td>One of the last of an almost extinct species</td>\n",
              "      <td>1145404800</td>\n",
              "    </tr>\n",
              "    <tr>\n",
              "      <th>4</th>\n",
              "      <td>A2XRMQA6PJ5ZJ8</td>\n",
              "      <td>0</td>\n",
              "      <td>0</td>\n",
              "      <td>12</td>\n",
              "      <td>7.75000</td>\n",
              "      <td>0.500000</td>\n",
              "      <td>5.0</td>\n",
              "      <td>For simple calculations and discounted cash fl...</td>\n",
              "      <td>2013-08-04</td>\n",
              "      <td>B00000JBLH</td>\n",
              "      <td>Roger J. Buffington</td>\n",
              "      <td>Still the best</td>\n",
              "      <td>1375574400</td>\n",
              "    </tr>\n",
              "  </tbody>\n",
              "</table>\n",
              "</div>"
            ],
            "text/plain": [
              "       reviewerID  thumbsUp  thumbsDown  commentCount  thumbsUpAvg  \\\n",
              "0  A32T2H8150OJLU         3           1            27      7.37037   \n",
              "1  A3MAFS04ZABRGO         7           2             5     49.80000   \n",
              "2  A1F1A0QQP2XVH5         3           0            30      2.30000   \n",
              "3   A49R5DBXXQDE5         7           1             5      6.00000   \n",
              "4  A2XRMQA6PJ5ZJ8         0           0            12      7.75000   \n",
              "\n",
              "   thumbsDownAvg  overall                                         reviewText  \\\n",
              "0       0.592593      5.0  I bought my first HP12C in about 1984 or so, a...   \n",
              "1       3.400000      5.0  WHY THIS BELATED REVIEW? I feel very obliged t...   \n",
              "2       0.200000      2.0  I have an HP 48GX that has been kicking for mo...   \n",
              "3       0.400000      5.0  I've started doing more finance stuff recently...   \n",
              "4       0.500000      5.0  For simple calculations and discounted cash fl...   \n",
              "\n",
              "  reviewTime         PID         reviewerName  \\\n",
              "0 2004-09-03  B00000JBLH                  ARH   \n",
              "1 2007-12-15  B00000JBLH     Let it Be \"Alan\"   \n",
              "2 2011-01-01  B00000JBLH               Mark B   \n",
              "3 2006-04-19  B00000JBLH         R. D Johnson   \n",
              "4 2013-08-04  B00000JBLH  Roger J. Buffington   \n",
              "\n",
              "                                             summary  unixReviewTime  \n",
              "0            A solid performer, and long time friend      1094169600  \n",
              "1  Price of GOLD is up, so don't bury the golden ...      1197676800  \n",
              "2   Good functionality, but not durable like old HPs      1293840000  \n",
              "3       One of the last of an almost extinct species      1145404800  \n",
              "4                                     Still the best      1375574400  "
            ]
          },
          "metadata": {
            "tags": []
          },
          "execution_count": 7
        }
      ]
    }
  ]
}